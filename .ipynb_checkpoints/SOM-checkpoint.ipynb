{
 "cells": [
  {
   "cell_type": "code",
   "execution_count": null,
   "metadata": {},
   "outputs": [],
   "source": [
    "import tensorflow as tf\n",
    "import numpy as np\n",
    "sess = tf.InteractiveSession()"
   ]
  },
  {
   "cell_type": "code",
   "execution_count": null,
   "metadata": {},
   "outputs": [],
   "source": [
    "def _locations(shape):\n",
    "    for r in range(shape[0]):\n",
    "        for c in range(shape[1]):\n",
    "            yield [r*1.0, c*1.0]\n",
    "\n",
    "def init(shape = (13,13), dim=3, num_iters=200, learning_rate=0.5):\n",
    "    '''shape: 输出层节点数\n",
    "    dim: 权重向量的维数\n",
    "    '''\n",
    "    weights = tf.Variable(tf.random_normal([shape[0]*shape[1], dim],mean=0.5, stddev=0.1, dtype=\"float64\"), name=\"weights\", dtype=tf.float64)\n",
    "    x = tf.placeholder(\"float64\", [1,dim], name='X')\n",
    "    locations = np.array(list(_locations(shape)))\n",
    "    locations = tf.constant(locations)\n",
    "    num_iters = tf.constant([num_iters], dtype=tf.float64)\n",
    "    learning_rate = tf.constant([learning_rate], dtype=tf.float64)\n",
    "    radius = tf.constant([shape[0]/2], dtype=tf.float64)\n",
    "    return {\n",
    "        'weights':weights,\n",
    "        'x':x,\n",
    "        'locations':locations,\n",
    "        'learning_rate':learning_rate,\n",
    "        'num_iters':num_iters,\n",
    "        'radius': radius\n",
    "    }"
   ]
  },
  {
   "cell_type": "code",
   "execution_count": null,
   "metadata": {},
   "outputs": [],
   "source": []
  }
 ],
 "metadata": {
  "kernelspec": {
   "display_name": "Python 3",
   "language": "python",
   "name": "python3"
  },
  "language_info": {
   "codemirror_mode": {
    "name": "ipython",
    "version": 3
   },
   "file_extension": ".py",
   "mimetype": "text/x-python",
   "name": "python",
   "nbconvert_exporter": "python",
   "pygments_lexer": "ipython3",
   "version": "3.7.1"
  }
 },
 "nbformat": 4,
 "nbformat_minor": 2
}
